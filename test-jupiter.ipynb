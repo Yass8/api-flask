{
 "cells": [
  {
   "cell_type": "markdown",
   "id": "f23fd11a-0ad2-43c3-921f-f1567693d067",
   "metadata": {},
   "source": [
    "# Mon prémier Notebook\n",
    "2024"
   ]
  },
  {
   "cell_type": "code",
   "execution_count": 2,
   "id": "f8b4af79-e6c7-4445-b0f9-6713bef5b849",
   "metadata": {},
   "outputs": [
    {
     "name": "stdout",
     "output_type": "stream",
     "text": [
      "hello, world\n"
     ]
    }
   ],
   "source": [
    "print(\"hello, world\")"
   ]
  },
  {
   "cell_type": "code",
   "execution_count": 10,
   "id": "30775f00-9499-4da2-9278-d1aa9a5d1d3e",
   "metadata": {},
   "outputs": [
    {
     "name": "stdout",
     "output_type": "stream",
     "text": [
      "{'id': 1, 'nom': 'Yazid', 'prenom': 'Said', 'age': 15, 'villes': {'Paris', 'Lyon'}, 'notes': [10, 12, 8, 7]}\n",
      "1\n",
      "Yazid\n",
      "Said\n",
      "15\n",
      "{'Paris', 'Lyon'}\n",
      "[10, 12, 8, 7]\n",
      "id\n",
      "nom\n",
      "prenom\n",
      "age\n",
      "villes\n",
      "notes\n",
      "Yazid\n",
      "10\n",
      "12\n",
      "8\n",
      "7\n"
     ]
    }
   ],
   "source": [
    "# Dictionnaire\n",
    "dic = {\n",
    "    'id' : 1,\n",
    "    'nom' : 'Yazid',\n",
    "    'prenom' : 'Said',\n",
    "    'age' : 15,\n",
    "    'villes' : {'Paris','Lyon'},\n",
    "    'notes' : [10,12,8,7]\n",
    "}\n",
    "\n",
    "print(dic)\n",
    "for key in dic:\n",
    "    print(dic[key]) # Affiche seulement les valeurs du dictionnaire.\n",
    "\n",
    "for key in dic:\n",
    "    print(key) # Affiche seulement les clés du dictionnaire.\n",
    "\n",
    "print(dic['nom']) # Affiche la valeur du clé nom\n",
    "\n",
    "# boucle FOR pour les notes du dictionnaires.. (list)\n",
    "for note in dic['notes']:\n",
    "    print(note)"
   ]
  },
  {
   "cell_type": "code",
   "execution_count": 11,
   "id": "e3007ba1-a4cf-42b9-a414-2586c6b7c79b",
   "metadata": {},
   "outputs": [
    {
     "name": "stdout",
     "output_type": "stream",
     "text": [
      "('La somme de ', 8, ' et ', 0, ' est ', 8)\n",
      "rouge\n",
      "('Somme est ', 1)\n"
     ]
    }
   ],
   "source": [
    "import random\n",
    "\n",
    "# Random\n",
    "def rad(max):\n",
    "    a = random.randint(0, max)\n",
    "    b = random.randint(0, max)\n",
    "    obj = {'n1' : a,'n2' : b, 'somme' : a+b}\n",
    "    return \"La somme de \", obj[\"n1\"],\" et \", obj[\"n2\"],\" est \", obj[\"somme\"]\n",
    "\n",
    "print(rad(10))\n",
    "\n",
    "couleur = [\"bleu\",\"jaune\",\"blanche\",\"rouge\",\"vert\",\"#00FFFF\"]\n",
    "\n",
    "print(random.choice(couleur)) # Choisir un élement au hasard d'une séquence(liste)\n",
    "\n",
    "def aleatoire(bool,list1,min,max): \n",
    "    if(bool==True):\n",
    "        return random.choice(list1)\n",
    "    else:\n",
    "        return \"Somme est \", random.randint(min,max)\n",
    "\n",
    "print(aleatoire(False,[1,25,6,7],0,50))"
   ]
  },
  {
   "cell_type": "code",
   "execution_count": 13,
   "id": "c661b2a9-6d31-427e-b794-ec7d08f76557",
   "metadata": {},
   "outputs": [
    {
     "name": "stdout",
     "output_type": "stream",
     "text": [
      "       FacilityID                                      URL  \\\n",
      "0               1      https://toiletmap.gov.au/facility/1   \n",
      "1               2      https://toiletmap.gov.au/facility/2   \n",
      "2               3      https://toiletmap.gov.au/facility/3   \n",
      "3               4      https://toiletmap.gov.au/facility/4   \n",
      "4               5      https://toiletmap.gov.au/facility/5   \n",
      "...           ...                                      ...   \n",
      "23658       62973  https://toiletmap.gov.au/facility/62973   \n",
      "23659       62974  https://toiletmap.gov.au/facility/62974   \n",
      "23660       62975  https://toiletmap.gov.au/facility/62975   \n",
      "23661       62976  https://toiletmap.gov.au/facility/62976   \n",
      "23662       62977  https://toiletmap.gov.au/facility/62977   \n",
      "\n",
      "                                    Name     FacilityType  \\\n",
      "0                    Sandy Beach Reserve  Park or reserve   \n",
      "1                          Point Reserve  Park or reserve   \n",
      "2                   Success Hill Reserve  Park or reserve   \n",
      "3                        Jubilee Reserve  Park or reserve   \n",
      "4                       Ashfield Reserve  Park or reserve   \n",
      "...                                  ...              ...   \n",
      "23658                      Bowling Green  Park or reserve   \n",
      "23659                     Murray Gardens        Rest area   \n",
      "23660           Glenvale Shopping Centre  Shopping centre   \n",
      "23661  Flagstone Village Shopping Centre  Shopping centre   \n",
      "23662          Bomaderry Shopping Centre  Shopping centre   \n",
      "\n",
      "                         Address1        Town State AddressNote   Latitude  \\\n",
      "0           Lost 15525, West Road  Bassendean    WA         NaN -31.921836   \n",
      "1             Lot 197, North Road  Bassendean    WA         NaN -31.904410   \n",
      "2        Lot 2838, Seventh Avenue  Bassendean    WA         NaN -31.896289   \n",
      "3         Lot 6322, Robinson Road   Eden Hill    WA         NaN -31.891474   \n",
      "4      Lot 12061, 2 Coulston Road    Ashfield    WA         NaN -31.913433   \n",
      "...                           ...         ...   ...         ...        ...   \n",
      "23658              Railway Parade  Parramatta   NSW         NaN -33.813870   \n",
      "23659               George Street  Parramatta   NSW         NaN -33.813129   \n",
      "23660           114 Glenvale Road    Glenvale   QLD         NaN -27.563987   \n",
      "23661                6 Gates Road   Flagstone   QLD         NaN -27.809275   \n",
      "23662         320 Princes Highway   Bomaderry   NSW         NaN -34.843569   \n",
      "\n",
      "        Longitude  ...  Ambulant  Accessible LHTransfer  RHTransfer  \\\n",
      "0      115.950206  ...     False        True      False       False   \n",
      "1      115.960991  ...     False        True      False       False   \n",
      "2      115.955781  ...     False        True      False       False   \n",
      "3      115.940164  ...     False       False      False       False   \n",
      "4      115.936477  ...     False        True      False       False   \n",
      "...           ...  ...       ...         ...        ...         ...   \n",
      "23658  150.996823  ...     False        True      False       False   \n",
      "23659  150.998034  ...     False        True      False       False   \n",
      "23660  151.911458  ...     False        True      False       False   \n",
      "23661  152.949954  ...     False        True      False       False   \n",
      "23662  150.595536  ...     False        True      False       False   \n",
      "\n",
      "       ToiletNote  SharpsDisposal  DrinkingWater SanitaryDisposal  \\\n",
      "0             NaN            True           True             True   \n",
      "1             NaN            True           True             True   \n",
      "2             NaN            True           True             True   \n",
      "3             NaN            True          False             True   \n",
      "4             NaN            True           True             True   \n",
      "...           ...             ...            ...              ...   \n",
      "23658         NaN           False          False            False   \n",
      "23659         NaN            True          False            False   \n",
      "23660         NaN            True          False             True   \n",
      "23661         NaN           False          False            False   \n",
      "23662         NaN           False          False            False   \n",
      "\n",
      "       MensPadDisposal  Shower  \n",
      "0                False   False  \n",
      "1                False   False  \n",
      "2                False    True  \n",
      "3                False   False  \n",
      "4                False   False  \n",
      "...                ...     ...  \n",
      "23658            False   False  \n",
      "23659            False   False  \n",
      "23660            False   False  \n",
      "23661            False   False  \n",
      "23662            False   False  \n",
      "\n",
      "[23663 rows x 47 columns]\n"
     ]
    }
   ],
   "source": [
    "import pandas as pd\n",
    "\n",
    "datas = pd.read_csv(r\"C:\\Users\\ALI YASSIR\\Desktop\\Python\\api-flask\\dataset.csv\")\n",
    "print(datas)"
   ]
  },
  {
   "cell_type": "code",
   "execution_count": null,
   "id": "f1d54384-ae48-46d9-97a0-4771e03bb403",
   "metadata": {},
   "outputs": [],
   "source": []
  }
 ],
 "metadata": {
  "kernelspec": {
   "display_name": "Python 3 (ipykernel)",
   "language": "python",
   "name": "python3"
  },
  "language_info": {
   "codemirror_mode": {
    "name": "ipython",
    "version": 3
   },
   "file_extension": ".py",
   "mimetype": "text/x-python",
   "name": "python",
   "nbconvert_exporter": "python",
   "pygments_lexer": "ipython3",
   "version": "3.11.9"
  }
 },
 "nbformat": 4,
 "nbformat_minor": 5
}
